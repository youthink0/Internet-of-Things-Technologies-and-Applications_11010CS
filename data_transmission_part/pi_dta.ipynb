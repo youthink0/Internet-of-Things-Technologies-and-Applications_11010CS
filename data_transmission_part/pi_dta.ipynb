{
 "cells": [
  {
   "cell_type": "code",
   "execution_count": 1,
   "metadata": {},
   "outputs": [],
   "source": [
    "#!/usr/bin/env python3\n",
    "# -*- coding: utf-8 -*-\n",
    "import socket\n",
    "import pandas as pd\n",
    "import time\n",
    "\n",
    "HOST = '0.0.0.0'\n",
    "PORT = 7000\n",
    "\n",
    "s = socket.socket(socket.AF_INET, socket.SOCK_STREAM)\n",
    "s.connect((HOST, PORT))"
   ]
  },
  {
   "cell_type": "code",
   "execution_count": null,
   "metadata": {},
   "outputs": [
    {
     "name": "stdout",
     "output_type": "stream",
     "text": [
      "     P week month date      time  year         sec Application valid\n",
      "0  9.0  Thu   Dec   23  22:55:59  2021  1640271360        lamp     Y\n",
      "recv: data echo confirmed\n",
      "     P week month date      time  year         sec Application valid\n",
      "0  9.0  Thu   Dec   23  22:55:59  2021  1640271360        lamp     Y\n",
      "recv: data echo confirmed\n",
      "     P week month date      time  year         sec Application valid\n",
      "0  9.0  Thu   Dec   23  22:55:59  2021  1640271360        lamp     Y\n",
      "recv: data echo confirmed\n",
      "     P week month date      time  year         sec Application valid\n",
      "0  9.0  Thu   Dec   23  22:55:59  2021  1640271360        lamp     Y\n",
      "recv: data echo confirmed\n",
      "     P week month date      time  year         sec Application valid\n",
      "0  9.0  Thu   Dec   23  22:55:59  2021  1640271360        lamp     Y\n",
      "recv: data echo confirmed\n"
     ]
    }
   ],
   "source": [
    "col = ['P', 'week', 'month', 'date', 'time', 'year', 'sec', 'Application', 'valid']\n",
    "inputdata = [\"9.0\",\"Thu\",\"Dec\",\"23\",\"22:55:59\",\"2021\",\"1640271360\",\"lamp\",\"Y\"]\n",
    "\n",
    "#while True:\n",
    "for i in range(5):\n",
    "    #inputdata = list(map(int,input(\"\\nEnter the numbers : \").strip().split()))[:2]\n",
    "    \n",
    "    \n",
    "    df = pd.DataFrame([inputdata], columns = col)\n",
    "                  \n",
    "    print(df)\n",
    "    df_string = df.to_json()\n",
    "    \n",
    "    s.send(df_string.encode())\n",
    "\n",
    "\n",
    "    indata = s.recv(1024)\n",
    "    if len(indata) == 0: # connection closed\n",
    "        s.close()\n",
    "        print('server closed connection.')\n",
    "        break\n",
    "    print('recv: ' + indata.decode())\n",
    "    \n",
    "    time.sleep(7)\n",
    "    df[\"P\"] = str(i*i + 5)"
   ]
  },
  {
   "cell_type": "code",
   "execution_count": null,
   "metadata": {},
   "outputs": [],
   "source": []
  },
  {
   "cell_type": "code",
   "execution_count": 1,
   "metadata": {},
   "outputs": [
    {
     "data": {
      "text/html": [
       "<div>\n",
       "<style scoped>\n",
       "    .dataframe tbody tr th:only-of-type {\n",
       "        vertical-align: middle;\n",
       "    }\n",
       "\n",
       "    .dataframe tbody tr th {\n",
       "        vertical-align: top;\n",
       "    }\n",
       "\n",
       "    .dataframe thead th {\n",
       "        text-align: right;\n",
       "    }\n",
       "</style>\n",
       "<table border=\"1\" class=\"dataframe\">\n",
       "  <thead>\n",
       "    <tr style=\"text-align: right;\">\n",
       "      <th></th>\n",
       "      <th>col1</th>\n",
       "      <th>col2</th>\n",
       "    </tr>\n",
       "  </thead>\n",
       "  <tbody>\n",
       "    <tr>\n",
       "      <th>0</th>\n",
       "      <td>1</td>\n",
       "      <td>3</td>\n",
       "    </tr>\n",
       "    <tr>\n",
       "      <th>1</th>\n",
       "      <td>2</td>\n",
       "      <td>4</td>\n",
       "    </tr>\n",
       "    <tr>\n",
       "      <th>2</th>\n",
       "      <td>3</td>\n",
       "      <td>5</td>\n",
       "    </tr>\n",
       "    <tr>\n",
       "      <th>3</th>\n",
       "      <td>7</td>\n",
       "      <td>12</td>\n",
       "    </tr>\n",
       "    <tr>\n",
       "      <th>4</th>\n",
       "      <td>9</td>\n",
       "      <td>3</td>\n",
       "    </tr>\n",
       "  </tbody>\n",
       "</table>\n",
       "</div>"
      ],
      "text/plain": [
       "  col1  col2\n",
       "0    1     3\n",
       "1    2     4\n",
       "2    3     5\n",
       "3    7    12\n",
       "4    9     3"
      ]
     },
     "execution_count": 1,
     "metadata": {},
     "output_type": "execute_result"
    }
   ],
   "source": [
    "import pandas as pd\n",
    "import matplotlib.pyplot as plt\n",
    "\n",
    "d = {'col1': [1, 2, 3], 'col2': [3, 4, 5]}\n",
    "df = pd.DataFrame(data=d)\n",
    "df['col1'] = df['col1'].astype(str)  #this column should be time\n",
    "f = {'col1': [7, 9], 'col2': [12, 3]}\n",
    "df1 = pd.DataFrame(data=f)\n",
    "pd.concat([df, df1], ignore_index=True)"
   ]
  },
  {
   "cell_type": "code",
   "execution_count": null,
   "metadata": {},
   "outputs": [],
   "source": []
  },
  {
   "cell_type": "code",
   "execution_count": 48,
   "metadata": {},
   "outputs": [
    {
     "name": "stdout",
     "output_type": "stream",
     "text": [
      "Tue Dec 21\n",
      "------------------------------------------------------------\n",
      "Wed Dec 22\n",
      "Empty DataFrame\n",
      "Columns: []\n",
      "Index: []\n",
      "------------------------------------------------------------\n"
     ]
    },
    {
     "data": {
      "image/png": "[encoded data removed]",
      "text/plain": [
       "<Figure size 432x288 with 1 Axes>"
      ]
     },
     "metadata": {
      "needs_background": "light"
     },
     "output_type": "display_data"
    },
    {
     "data": {
      "image/png": "[encoded data removed]",
      "text/plain": [
       "<Figure size 432x288 with 1 Axes>"
      ]
     },
     "metadata": {
      "needs_background": "light"
     },
     "output_type": "display_data"
    }
   ],
   "source": [
    "import datetime\n",
    "import pandas as pd\n",
    "import matplotlib.pyplot as plt\n",
    "import numpy\n",
    "day_in_now = datetime.date.today()\n",
    "day_in_21ago = day_in_now + datetime.timedelta(days=-21)\n",
    "def export_line_chart(df, df_week_ago, today):\n",
    "    ax = df.plot(x='time', y = 'supply_use', kind = 'line', c = \"r\", style=\".-\", label=\"today\", rot=45, grid=False)\n",
    "    \n",
    "    # 設定圖例，參數為標籤、位置\n",
    "    ax.legend(loc = 'best')\n",
    "    ax.set_xlabel(\"Time\", fontweight = \"bold\")                # 設定x軸標題及粗體\n",
    "    ax.set_ylabel(\"Power Supply\", fontweight = \"bold\")    # 設定y軸標題及粗體\n",
    "    ax.set_title(label=str(today)+\" electric folding line diagram\", fontsize = 15, fontweight = \"bold\", y = 1.1)   \n",
    "    # 設定標題、文字大小、粗體及位置\n",
    "    ax.set_facecolor('white')\n",
    "    \n",
    "    if df_week_ago.empty:\n",
    "        fig = ax.get_figure()\n",
    "    else:\n",
    "        plot = df_week_ago.plot(x='time', y = 'supply_use', kind = 'line', c = \"k\", style='s-', label=\"week ago\", \n",
    "                                ax=ax, rot=45, grid=False) # 將x軸數字旋轉45度，避免文字重疊, 且移除格子\n",
    "        ma = df_week_ago['supply_use'].rolling(3).mean() #計算均線\n",
    "        mstd = df_week_ago['supply_use'].rolling(3).std() #計算標準差\n",
    "        plot.fill_between(mstd.index, df_week_ago['supply_use'], ma+1*mstd, color='0.3', alpha=0.2) #draw *1 標準差\n",
    "        plot.fill_between(mstd.index, ma+1*mstd, ma+2*mstd, color='0.7', alpha=0.2) #draw *2 標準差\n",
    "        \n",
    "        fig = plot.get_figure()\n",
    "    fig.savefig(\"picture/\"+str(today)+\"_Line chart.jpg\",   # 儲存圖檔\n",
    "                bbox_inches='tight',               # 去除座標軸占用的空間\n",
    "                pad_inches=0.0)\n",
    "\n",
    "size = []\n",
    "def absolute_value(val):\n",
    "    a  = sum(size)*val/100\n",
    "    return '{:.1f}%\\n({:.2f})'.format(val, a)\n",
    "    \n",
    "def export_pie_chart(df, col, today):\n",
    "    #pie chart\n",
    "    plt.figure(figsize=(6,9))    # 顯示圖框架大小\n",
    "    lamp_sum = df.loc[df['Application'] == \"lamp\", col].sum()\n",
    "    cellphone_sum = df.loc[df['Application'] == \"cellphone\", col].sum()\n",
    "    hairdryer_sum = df.loc[df['Application'] == \"hairdryer\", col].sum()\n",
    "    #print(lamp_sum, hairdryer_sum)\n",
    "    labels = [\"lamp\", \"cellphone\", \"hairdry\"]      # 製作圓餅圖的類別標籤\n",
    "    global size\n",
    "    if col == \"time_use\":\n",
    "        size = [lamp_sum/60, cellphone_sum/60, hairdryer_sum/60]                         # 製作圓餅圖的數值來源\n",
    "    else:\n",
    "        size = [lamp_sum, cellphone_sum, hairdryer_sum]\n",
    "    plt.pie(size,                           # 數值\n",
    "            labels = labels,                # 標籤\n",
    "            autopct = absolute_value,       # 將數值百分比並留到小數點一位且保留真實數值\n",
    "            pctdistance = 0.6,              # 數字距圓心的距離\n",
    "            textprops = {\"fontsize\" : 12},  # 文字大小\n",
    "            shadow=True)                    # 設定陰影\n",
    "\n",
    "\n",
    "    plt.axis('equal')                                          # 使圓餅圖比例相等\n",
    "    plt.title(str(today) + \" \" + col + \" ratio\", {\"fontsize\" : 18})  # 設定標題及其文字大小\n",
    "    plt.legend(loc = \"best\")                                   # 設定圖例及其位置為最佳\n",
    "\n",
    "    plt.savefig('picture/'+str(today) + \" \" + col + \" ratio.jpg\",   # 儲存圖檔\n",
    "                bbox_inches='tight',               # 去除座標軸占用的空間\n",
    "                pad_inches=0.0)                    # 去除所有白邊\n",
    "    plt.close()      # 關閉圖表    \n",
    "\n",
    "def get_electricity_information(df):\n",
    "    if df.empty:\n",
    "        return df\n",
    "    df[\"last_sec\"] = df[\"sec\"].shift(-1)\n",
    "    df[\"last_sec\"] = df['last_sec'].fillna(df['sec']) #remove NaN\n",
    "    df[\"time_use\"] = (df[\"last_sec\"].astype(int) - df[\"sec\"].astype(int))\n",
    "    df[\"supply_use\"] = (df[\"P\"].astype(float)*df[\"time_use\"])/1000 #unit : 1000J\n",
    "    #P(W)*time(S) = energy(J)\n",
    "    #print(df)\n",
    "    return df\n",
    "\n",
    "df_res = pd.DataFrame()\n",
    "df_week_ago_res = pd.DataFrame()\n",
    "today_date_str = str()\n",
    "# right method \n",
    "with pd.ExcelFile('data_storage/pandas_simple.xlsx') as xls:\n",
    "    \n",
    "    for sheet_name in xls.sheet_names:  #get sheet_name\n",
    "        df1 = pd.read_excel(xls, sheet_name=sheet_name)\n",
    "        df = get_electricity_information(df1) #put electricity information into df\n",
    "        \n",
    "        month_tmp = datetime.datetime.strptime(df[\"month\"][0], \"%b\")\n",
    "        sheet_date = str(df['year'][0])+\"-\"+str(month_tmp.month)+\"-\"+str(df['date'][0])\n",
    "        \n",
    "        tmp = datetime.datetime.strptime(sheet_date, \"%Y-%m-%d\")\n",
    "        week_ago_date = (tmp + datetime.timedelta(days=-7)).strftime(\"%a %b %d\")\n",
    "        week_ago_date = week_ago_date.replace(\"0\", \" \") #find week ago's sheet name\n",
    "        print(week_ago_date)\n",
    "        \n",
    "        df_week_ago1 = pd.DataFrame()\n",
    "        if week_ago_date in xls.sheet_names:\n",
    "            df_week_ago1 = pd.read_excel(xls, sheet_name=week_ago_date)\n",
    "            print(df_week_ago.head(2))\n",
    "        df_week_ago = get_electricity_information(df_week_ago1) #put electricity information into df\n",
    "        \n",
    "        if str(today) == sheet_name:\n",
    "            df_res = df\n",
    "            df_week_ago_res = df_week_ago\n",
    "            today_date_str = sheet_date\n",
    "        else:\n",
    "            export_line_chart(df, df_week_ago, sheet_date) #draw line chart\n",
    "            export_pie_chart(df, \"supply_use\", sheet_date) #draw supply_use pie chart\n",
    "            export_pie_chart(df, \"time_use\", sheet_date) #draw time_use pie chart\n",
    "        #print(df)\n",
    "        \n",
    "        print(\"------------------------------------------------------------\")"
   ]
  },
  {
   "cell_type": "code",
   "execution_count": null,
   "metadata": {},
   "outputs": [],
   "source": []
  }
 ],
 "metadata": {
  "kernelspec": {
   "display_name": "Python 3",
   "language": "python",
   "name": "python3"
  },
  "language_info": {
   "codemirror_mode": {
    "name": "ipython",
    "version": 3
   },
   "file_extension": ".py",
   "mimetype": "text/x-python",
   "name": "python",
   "nbconvert_exporter": "python",
   "pygments_lexer": "ipython3",
   "version": "3.8.5"
  }
 },
 "nbformat": 4,
 "nbformat_minor": 4
}
